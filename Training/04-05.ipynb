{
 "cells": [
  {
   "cell_type": "code",
   "execution_count": 3,
   "id": "3705e761-a82b-4552-9cfb-c0d4fef7f659",
   "metadata": {},
   "outputs": [
    {
     "name": "stdout",
     "output_type": "stream",
     "text": [
      "First line of code in the training program.\n"
     ]
    }
   ],
   "source": [
    "print('First line of code in the training program.') #ctrl+enter or shift+enter "
   ]
  },
  {
   "cell_type": "code",
   "execution_count": 4,
   "id": "055b3e47-eb7d-4378-ab70-6d55e56656de",
   "metadata": {},
   "outputs": [
    {
     "name": "stdout",
     "output_type": "stream",
     "text": [
      "Hello python this is my 1st line of code\n"
     ]
    }
   ],
   "source": [
    "print('Hello python this is my 1st line of code')"
   ]
  },
  {
   "cell_type": "code",
   "execution_count": 5,
   "id": "6b8cd1a4-7f63-41f6-ac26-01b162abe79b",
   "metadata": {},
   "outputs": [
    {
     "name": "stdout",
     "output_type": "stream",
     "text": [
      "hello, this is the 1st line. \n",
      " this is the 2nd line.\n",
      " this is the 3rd line.\n"
     ]
    }
   ],
   "source": [
    "print('hello, this is the 1st line. \\n this is the 2nd line.\\n this is the 3rd line.')"
   ]
  },
  {
   "cell_type": "code",
   "execution_count": 6,
   "id": "e0fb9fbe-864f-402c-a9ae-0a81a1bc276d",
   "metadata": {},
   "outputs": [],
   "source": [
    "a = 5\n",
    "b = 6"
   ]
  },
  {
   "cell_type": "code",
   "execution_count": 7,
   "id": "480d659e-a515-456b-b2a5-90fcd99d5ca5",
   "metadata": {},
   "outputs": [
    {
     "name": "stdout",
     "output_type": "stream",
     "text": [
      "11\n",
      "-1\n"
     ]
    }
   ],
   "source": [
    "print(a+b)\n",
    "print(a-b)"
   ]
  },
  {
   "cell_type": "code",
   "execution_count": 8,
   "id": "ac0bc557-0404-434d-b935-bac713c33671",
   "metadata": {},
   "outputs": [
    {
     "name": "stdout",
     "output_type": "stream",
     "text": [
      "11\n",
      "30\n"
     ]
    }
   ],
   "source": [
    "c = a+b\n",
    "d = a*b\n",
    "print(c)\n",
    "print(d)"
   ]
  },
  {
   "cell_type": "code",
   "execution_count": 9,
   "id": "6d51da0f-1264-42a7-b0b8-b53ced4cf709",
   "metadata": {},
   "outputs": [
    {
     "name": "stdout",
     "output_type": "stream",
     "text": [
      "6\n",
      "4\n"
     ]
    }
   ],
   "source": [
    "a += 1\n",
    "b -= 2\n",
    "\n",
    "print(a)\n",
    "print(b)"
   ]
  },
  {
   "cell_type": "markdown",
   "id": "18f5f51f-cc95-4cf1-997e-9a4cb07a732c",
   "metadata": {},
   "source": [
    "### Logical operations\n"
   ]
  },
  {
   "cell_type": "code",
   "execution_count": 11,
   "id": "12bbdf0e-3a20-4a11-a7b2-f485c0bb4311",
   "metadata": {},
   "outputs": [
    {
     "name": "stdout",
     "output_type": "stream",
     "text": [
      "True\n",
      "True\n",
      "False\n"
     ]
    }
   ],
   "source": [
    "print(3<4)\n",
    "print(3==3)\n",
    "print(3>4)"
   ]
  },
  {
   "cell_type": "code",
   "execution_count": 12,
   "id": "9ab9896a-7e1c-4d1a-8de1-ffdcdef766f6",
   "metadata": {},
   "outputs": [
    {
     "name": "stdout",
     "output_type": "stream",
     "text": [
      "True\n",
      "False\n",
      "False\n"
     ]
    }
   ],
   "source": [
    "print(True and True)\n",
    "print(True and False)\n",
    "print(False and False)"
   ]
  },
  {
   "cell_type": "markdown",
   "id": "aac6634b-f8ff-4135-9ea0-a701402d1a90",
   "metadata": {},
   "source": [
    "## String operations"
   ]
  },
  {
   "cell_type": "code",
   "execution_count": 16,
   "id": "58f8caff-84da-4d6a-a95e-a7ef0cef6e8d",
   "metadata": {},
   "outputs": [
    {
     "name": "stdout",
     "output_type": "stream",
     "text": [
      "I am Python!\n",
      "I AM PYTHON!\n",
      "i am python!\n"
     ]
    }
   ],
   "source": [
    "str1 = 'I am Python!'\n",
    "\n",
    "print(str1)\n",
    "print(str1.upper())\n",
    "print(str1.lower())"
   ]
  },
  {
   "cell_type": "code",
   "execution_count": 20,
   "id": "2908e679-9424-4bf3-87b0-1ff2c3caa636",
   "metadata": {},
   "outputs": [],
   "source": [
    "some_str = ' I am python'\n",
    "another_str = 'I am python '"
   ]
  },
  {
   "cell_type": "code",
   "execution_count": 21,
   "id": "d79589d2-4cde-4d28-8374-60bcc78dbbc7",
   "metadata": {},
   "outputs": [
    {
     "name": "stdout",
     "output_type": "stream",
     "text": [
      " I am python\n",
      "I am python\n",
      "I am python \n",
      "I am python\n"
     ]
    }
   ],
   "source": [
    "print(some_str)\n",
    "print(some_str.lstrip())\n",
    "print(another_str)\n",
    "print(another_str.rstrip())"
   ]
  },
  {
   "cell_type": "code",
   "execution_count": 25,
   "id": "8b1732e1-d41a-4510-97b9-4a4a0893ce42",
   "metadata": {},
   "outputs": [
    {
     "name": "stdout",
     "output_type": "stream",
     "text": [
      "i am python\n",
      "i am pytho\n"
     ]
    }
   ],
   "source": [
    "special_str='i am python%'\n",
    "print(special_str.rstrip('%'))\n",
    "print(special_str.rstrip('n%'))"
   ]
  },
  {
   "cell_type": "code",
   "execution_count": 28,
   "id": "acf7ba64-77dc-4895-966e-c2d4f3122810",
   "metadata": {},
   "outputs": [
    {
     "name": "stdout",
     "output_type": "stream",
     "text": [
      "I am python\n",
      " I am python\n"
     ]
    }
   ],
   "source": [
    "some_str = ' I am python'\n",
    "print(some_str.strip())\n",
    "print(some_str)"
   ]
  },
  {
   "cell_type": "code",
   "execution_count": 30,
   "id": "79649e69-6102-4c5c-aaf5-a77687a419be",
   "metadata": {},
   "outputs": [
    {
     "name": "stdout",
     "output_type": "stream",
     "text": [
      "456\n"
     ]
    }
   ],
   "source": [
    "num_str='*456#'\n",
    "print(num_str.rstrip('#').lstrip('*'))"
   ]
  },
  {
   "cell_type": "markdown",
   "id": "86e9e4e2-c5af-4453-bd63-c01477e83590",
   "metadata": {},
   "source": [
    "### Indexing "
   ]
  },
  {
   "cell_type": "code",
   "execution_count": null,
   "id": "04f4db79-f6a6-4ce1-85b5-8a54b8008cbf",
   "metadata": {},
   "outputs": [],
   "source": [
    "## apple a p p l e\n",
    "## index 0 1 2 3 4 "
   ]
  },
  {
   "cell_type": "code",
   "execution_count": 33,
   "id": "d181fa9f-e8a6-4183-9e5e-f0043329c49e",
   "metadata": {},
   "outputs": [
    {
     "name": "stdout",
     "output_type": "stream",
     "text": [
      "a\n",
      "p\n",
      "p\n",
      "l\n",
      "e\n"
     ]
    }
   ],
   "source": [
    "val = 'apple'\n",
    "print(val[0])\n",
    "print(val[1])\n",
    "print(val[2])\n",
    "print(val[3])\n",
    "print(val[4])"
   ]
  },
  {
   "cell_type": "code",
   "execution_count": 34,
   "id": "da48c8eb-ab15-4f74-ba0c-885f93c55485",
   "metadata": {},
   "outputs": [
    {
     "name": "stdout",
     "output_type": "stream",
     "text": [
      "pple\n"
     ]
    }
   ],
   "source": [
    "print(val[1:]) # Slicing"
   ]
  },
  {
   "cell_type": "code",
   "execution_count": 36,
   "id": "1e1bf7c5-6304-473e-a3c6-684c3e209e1a",
   "metadata": {},
   "outputs": [
    {
     "name": "stdout",
     "output_type": "stream",
     "text": [
      "pp\n",
      "ppl\n",
      "app\n"
     ]
    }
   ],
   "source": [
    "print(val[1:3])\n",
    "print(val[1:4])\n",
    "print(val[0:3])"
   ]
  },
  {
   "cell_type": "code",
   "execution_count": 37,
   "id": "f4814d42-78d7-4f39-8da6-2b5718366dcd",
   "metadata": {},
   "outputs": [
    {
     "name": "stdout",
     "output_type": "stream",
     "text": [
      "app\n"
     ]
    }
   ],
   "source": [
    "print(val[:3])"
   ]
  },
  {
   "cell_type": "code",
   "execution_count": 41,
   "id": "81981a34-fc45-49c2-a20e-bfb98cc324c9",
   "metadata": {},
   "outputs": [
    {
     "name": "stdout",
     "output_type": "stream",
     "text": [
      "SteveSam\n",
      "Steve Sam\n"
     ]
    }
   ],
   "source": [
    "first_name = 'Steve'\n",
    "sec_name='Sam'\n",
    "\n",
    "name= first_name  + sec_name\n",
    "print(name)\n",
    "\n",
    "name= first_name  +\" \"+ sec_name\n",
    "print(name)"
   ]
  },
  {
   "cell_type": "code",
   "execution_count": 43,
   "id": "6ddb3f04-147f-438e-985d-46e67fccb0ef",
   "metadata": {},
   "outputs": [
    {
     "name": "stdout",
     "output_type": "stream",
     "text": [
      "age of Steve Sam is 30\n"
     ]
    }
   ],
   "source": [
    "age=30\n",
    "print('age of '+ name + ' is '+ str(age))"
   ]
  },
  {
   "cell_type": "code",
   "execution_count": null,
   "id": "534e2854-3e4b-45dd-9232-851f22ec045a",
   "metadata": {},
   "outputs": [],
   "source": []
  }
 ],
 "metadata": {
  "kernelspec": {
   "display_name": "GaborCapsnet",
   "language": "python",
   "name": "gaborcapsnet"
  },
  "language_info": {
   "codemirror_mode": {
    "name": "ipython",
    "version": 3
   },
   "file_extension": ".py",
   "mimetype": "text/x-python",
   "name": "python",
   "nbconvert_exporter": "python",
   "pygments_lexer": "ipython3",
   "version": "3.9.13"
  }
 },
 "nbformat": 4,
 "nbformat_minor": 5
}
