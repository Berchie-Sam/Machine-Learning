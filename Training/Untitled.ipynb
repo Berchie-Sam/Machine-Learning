{
 "cells": [
  {
   "cell_type": "code",
   "execution_count": 1,
   "id": "fcd79cbb",
   "metadata": {},
   "outputs": [],
   "source": [
    "import cx_Oracle"
   ]
  },
  {
   "cell_type": "code",
   "execution_count": 2,
   "id": "4bd4c5c8",
   "metadata": {},
   "outputs": [
    {
     "ename": "DatabaseError",
     "evalue": "DPI-1047: Cannot locate a 64-bit Oracle Client library: \"The specified module could not be found\". See https://cx-oracle.readthedocs.io/en/latest/user_guide/installation.html for help",
     "output_type": "error",
     "traceback": [
      "\u001b[1;31m---------------------------------------------------------------------------\u001b[0m",
      "\u001b[1;31mDatabaseError\u001b[0m                             Traceback (most recent call last)",
      "Cell \u001b[1;32mIn[2], line 2\u001b[0m\n\u001b[0;32m      1\u001b[0m \u001b[38;5;66;03m# Connect as user \"hr\" with password \"welcome\" to the \"orclpdb1\" service running on this computer.\u001b[39;00m\n\u001b[1;32m----> 2\u001b[0m connection \u001b[38;5;241m=\u001b[39m \u001b[43mcx_Oracle\u001b[49m\u001b[38;5;241;43m.\u001b[39;49m\u001b[43mconnect\u001b[49m\u001b[43m(\u001b[49m\u001b[43muser\u001b[49m\u001b[38;5;241;43m=\u001b[39;49m\u001b[38;5;124;43m\"\u001b[39;49m\u001b[38;5;124;43mhr\u001b[39;49m\u001b[38;5;124;43m\"\u001b[39;49m\u001b[43m,\u001b[49m\u001b[43m \u001b[49m\u001b[43mpassword\u001b[49m\u001b[38;5;241;43m=\u001b[39;49m\u001b[38;5;124;43m\"\u001b[39;49m\u001b[38;5;124;43mwelcome\u001b[39;49m\u001b[38;5;124;43m\"\u001b[39;49m\u001b[43m,\u001b[49m\n\u001b[0;32m      3\u001b[0m \u001b[43m                               \u001b[49m\u001b[43mdsn\u001b[49m\u001b[38;5;241;43m=\u001b[39;49m\u001b[38;5;124;43m\"\u001b[39;49m\u001b[38;5;124;43mlocalhost/orclpdb1\u001b[39;49m\u001b[38;5;124;43m\"\u001b[39;49m\u001b[43m)\u001b[49m\n\u001b[0;32m      5\u001b[0m cursor \u001b[38;5;241m=\u001b[39m connection\u001b[38;5;241m.\u001b[39mcursor()\n\u001b[0;32m      6\u001b[0m cursor\u001b[38;5;241m.\u001b[39mexecute(\u001b[38;5;124m\"\"\"\u001b[39m\n\u001b[0;32m      7\u001b[0m \u001b[38;5;124m        SELECT first_name, last_name\u001b[39m\n\u001b[0;32m      8\u001b[0m \u001b[38;5;124m        FROM employees\u001b[39m\n\u001b[0;32m      9\u001b[0m \u001b[38;5;124m        WHERE department_id = :did AND employee_id > :eid\u001b[39m\u001b[38;5;124m\"\"\"\u001b[39m,\n\u001b[0;32m     10\u001b[0m         did \u001b[38;5;241m=\u001b[39m \u001b[38;5;241m50\u001b[39m,\n\u001b[0;32m     11\u001b[0m         eid \u001b[38;5;241m=\u001b[39m \u001b[38;5;241m190\u001b[39m)\n",
      "\u001b[1;31mDatabaseError\u001b[0m: DPI-1047: Cannot locate a 64-bit Oracle Client library: \"The specified module could not be found\". See https://cx-oracle.readthedocs.io/en/latest/user_guide/installation.html for help"
     ]
    }
   ],
   "source": [
    "# Connect as user \"hr\" with password \"welcome\" to the \"orclpdb1\" service running on this computer.\n",
    "connection = cx_Oracle.connect(user=\"hr\", password=\"welcome\",\n",
    "                               dsn=\"localhost/orclpdb1\")\n",
    "\n",
    "cursor = connection.cursor()\n",
    "cursor.execute(\"\"\"\n",
    "        SELECT first_name, last_name\n",
    "        FROM employees\n",
    "        WHERE department_id = :did AND employee_id > :eid\"\"\",\n",
    "        did = 50,\n",
    "        eid = 190)\n",
    "for fname, lname in cursor:\n",
    "    print(\"Values:\", fname, lname)"
   ]
  },
  {
   "cell_type": "code",
   "execution_count": null,
   "id": "0a345b25",
   "metadata": {},
   "outputs": [],
   "source": []
  }
 ],
 "metadata": {
  "kernelspec": {
   "display_name": "GaborCapsnet",
   "language": "python",
   "name": "gaborcapsnet"
  },
  "language_info": {
   "codemirror_mode": {
    "name": "ipython",
    "version": 3
   },
   "file_extension": ".py",
   "mimetype": "text/x-python",
   "name": "python",
   "nbconvert_exporter": "python",
   "pygments_lexer": "ipython3",
   "version": "3.9.13"
  }
 },
 "nbformat": 4,
 "nbformat_minor": 5
}
