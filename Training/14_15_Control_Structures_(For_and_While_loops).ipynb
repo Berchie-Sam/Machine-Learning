{
 "cells": [
  {
   "cell_type": "code",
   "execution_count": 1,
   "metadata": {
    "id": "AIXGeflYNQt7"
   },
   "outputs": [],
   "source": [
    "#Control Structure: Loops\n",
    "#Loops are used to execute bodies of code based on a condition\n",
    "#Examples are For, WHile and Do while loops"
   ]
  },
  {
   "cell_type": "code",
   "execution_count": 2,
   "metadata": {
    "id": "f949joxaNfNP"
   },
   "outputs": [],
   "source": [
    "#For loops iterate over a certain sequence until a condition is satisfied\n",
    "#While loops iterate over a block of code until the condition is satisfied"
   ]
  },
  {
   "cell_type": "code",
   "execution_count": 3,
   "metadata": {
    "colab": {
     "base_uri": "https://localhost:8080/"
    },
    "id": "a7N9CmU2O2kp",
    "outputId": "7c24941f-6822-4846-8e3a-10bdc9051346"
   },
   "outputs": [
    {
     "name": "stdout",
     "output_type": "stream",
     "text": [
      "0\n",
      "1\n",
      "2\n",
      "3\n",
      "4\n",
      "5\n",
      "6\n",
      "7\n",
      "8\n",
      "9\n"
     ]
    }
   ],
   "source": [
    "for i in range(0,10):\n",
    "  print(i)"
   ]
  },
  {
   "cell_type": "code",
   "execution_count": 4,
   "metadata": {
    "colab": {
     "base_uri": "https://localhost:8080/"
    },
    "id": "JHTitphpO9Hc",
    "outputId": "dcb167da-8c43-4792-bc0b-c0e38fa89c0a"
   },
   "outputs": [
    {
     "name": "stdout",
     "output_type": "stream",
     "text": [
      "0\n",
      "2\n",
      "4\n",
      "6\n",
      "8\n"
     ]
    }
   ],
   "source": [
    "for i in range(0, 10, 2):\n",
    "  print(i)"
   ]
  },
  {
   "cell_type": "code",
   "execution_count": 5,
   "metadata": {
    "colab": {
     "base_uri": "https://localhost:8080/"
    },
    "id": "Oh5V6IrsPDJz",
    "outputId": "cc2aab28-c2fd-47dc-d616-0b368c4488a0"
   },
   "outputs": [
    {
     "name": "stdout",
     "output_type": "stream",
     "text": [
      "J\n",
      "i\n",
      "n\n",
      "g\n",
      "l\n",
      "e\n",
      " \n",
      "B\n",
      "e\n",
      "l\n",
      "l\n",
      " \n",
      "J\n",
      "i\n",
      "n\n",
      "g\n",
      "l\n",
      "e\n",
      " \n",
      "A\n",
      "l\n",
      "l\n",
      " \n",
      "t\n",
      "h\n",
      "e\n",
      " \n",
      "w\n",
      "a\n",
      "y\n"
     ]
    }
   ],
   "source": [
    "#Looping on a string\n",
    "my_string = \"Jingle Bell Jingle All the way\"\n",
    "\n",
    "for alphabet in my_string:\n",
    "  print(alphabet)"
   ]
  },
  {
   "cell_type": "code",
   "execution_count": 6,
   "metadata": {
    "colab": {
     "base_uri": "https://localhost:8080/"
    },
    "id": "4yBg0reDPhHM",
    "outputId": "ce6e56ad-c796-4a13-b321-4845cbaef292"
   },
   "outputs": [
    {
     "name": "stdout",
     "output_type": "stream",
     "text": [
      "* \n",
      "* * \n",
      "* * * \n",
      "* * * * \n",
      "* * * * * \n",
      "* * * * \n",
      "* * * \n",
      "* * \n",
      "* \n"
     ]
    }
   ],
   "source": [
    "s1 = ''\n",
    "for i in range(0,9):\n",
    "  if i<5:\n",
    "    s1 += '* '\n",
    "    print(s1)\n",
    "  elif i>4:\n",
    "    s1 = s1[:-2]\n",
    "    print(s1)"
   ]
  },
  {
   "cell_type": "code",
   "execution_count": 7,
   "metadata": {
    "colab": {
     "base_uri": "https://localhost:8080/"
    },
    "id": "jqjtpjuWQlwE",
    "outputId": "9e3cdc07-b3fe-4a1f-cd4a-d5b241a91876"
   },
   "outputs": [
    {
     "name": "stdout",
     "output_type": "stream",
     "text": [
      "0 J\n",
      "1 i\n",
      "2 n\n",
      "3 g\n",
      "4 l\n",
      "5 e\n",
      "6  \n",
      "7 B\n",
      "8 e\n",
      "9 l\n",
      "10 l\n",
      "11  \n",
      "12 J\n",
      "13 i\n",
      "14 n\n",
      "15 g\n",
      "16 l\n",
      "17 e\n",
      "18  \n",
      "19 B\n",
      "20 e\n",
      "21 l\n",
      "22 l\n",
      "23  \n",
      "24 A\n",
      "25 l\n",
      "26 l\n",
      "27  \n",
      "28 t\n",
      "29 h\n",
      "30 e\n",
      "31  \n",
      "32 w\n",
      "33 a\n",
      "34 y\n"
     ]
    }
   ],
   "source": [
    "string1 = \"Jingle Bell Jingle Bell All the way\"\n",
    "\n",
    "for n,letter in enumerate(string1):\n",
    "  print(n,letter)"
   ]
  },
  {
   "cell_type": "code",
   "execution_count": 8,
   "metadata": {
    "colab": {
     "base_uri": "https://localhost:8080/"
    },
    "id": "P5f08en1RARI",
    "outputId": "11f00e5a-9709-435c-9ab6-452e3256a50d"
   },
   "outputs": [
    {
     "name": "stdout",
     "output_type": "stream",
     "text": [
      " i e e i e e e a\n"
     ]
    }
   ],
   "source": [
    "import string\n",
    "vowels = ''\n",
    "for letter in string1:\n",
    "  if letter in 'aeiou':\n",
    "    vowels += ' ' + letter\n",
    "print(vowels)"
   ]
  },
  {
   "cell_type": "code",
   "execution_count": 9,
   "metadata": {
    "colab": {
     "base_uri": "https://localhost:8080/"
    },
    "id": "gZ8dhIfNRfef",
    "outputId": "8ed5f1a8-d7f3-40bf-8961-86127af6d63c"
   },
   "outputs": [
    {
     "name": "stdout",
     "output_type": "stream",
     "text": [
      "Evens are: 80082 odds are: 7937\n"
     ]
    }
   ],
   "source": [
    "'''\n",
    "n = '870098237'\n",
    "even =''\n",
    "odd = ''\n",
    "for i in n:\n",
    "  if int(i)%2==0:\n",
    "    even += 1\n",
    "  else:\n",
    "    odd +=1\n",
    "\n",
    "print('Evens are: '+even+' odds are: '+ odd)'''\n",
    "\n",
    "n = '870098237'\n",
    "even = ''\n",
    "odd = ''\n",
    "\n",
    "for i in n:\n",
    "    if int(i) % 2 == 0:\n",
    "        even += str(i)\n",
    "    else:\n",
    "        odd += str(i)\n",
    "\n",
    "print('Evens are: ' + even + ' odds are: ' + odd)\n"
   ]
  },
  {
   "cell_type": "code",
   "execution_count": 10,
   "metadata": {
    "id": "n2Z8Pu3cQ693"
   },
   "outputs": [],
   "source": [
    "list_of_inventories = ['Apple', 'Banana', 'Potato', 'Mango', 'Onion', 'Toothpaste']\n",
    "fruits = ['Apple', 'Banana', 'Mango', 'Orange', 'Strawberry']\n",
    "vegetables = ['Potato', 'Onion', 'Cucm=umber', 'Celery']"
   ]
  },
  {
   "cell_type": "code",
   "execution_count": 11,
   "metadata": {
    "id": "0baXzK2GnrRx"
   },
   "outputs": [
    {
     "name": "stdout",
     "output_type": "stream",
     "text": [
      "Apple\n",
      "Banana\n",
      "Potato\n",
      "Mango\n",
      "Onion\n",
      "Toothpaste\n",
      "3\n",
      "2\n"
     ]
    }
   ],
   "source": [
    "#Count of the fruits in inventory list\n",
    "count_fruits = 0\n",
    "#count of vegetables in inventory list\n",
    "count_veg = 0\n",
    "for item in list_of_inventories:\n",
    "  print(item)\n",
    "  if item in fruits:\n",
    "    count_fruits+=1\n",
    "  elif item in vegetables:\n",
    "    count_veg += 1\n",
    "  else:\n",
    "    continue\n",
    "print(count_fruits)\n",
    "print(count_veg)"
   ]
  },
  {
   "cell_type": "code",
   "execution_count": 12,
   "metadata": {
    "id": "q7rM8UvjtVix"
   },
   "outputs": [
    {
     "name": "stdout",
     "output_type": "stream",
     "text": [
      "Is\n",
      "Python\n",
      "simpler\n",
      "than\n",
      "R?\n"
     ]
    }
   ],
   "source": [
    "sentence = \"Is Python simpler than R?\"\n",
    "for word in sentence.split():\n",
    "  print(word)"
   ]
  },
  {
   "cell_type": "code",
   "execution_count": 13,
   "metadata": {
    "id": "q9t-tzVItr5c"
   },
   "outputs": [
    {
     "name": "stdout",
     "output_type": "stream",
     "text": [
      "Beautiful\n"
     ]
    }
   ],
   "source": [
    "#sentence check\n",
    "tweet = \"#Beautiful morning it is looking good\"\n",
    "\n",
    "for word in tweet.split():\n",
    "    if word.startswith('#'):\n",
    "        print(word[1:])"
   ]
  },
  {
   "cell_type": "code",
   "execution_count": 14,
   "metadata": {},
   "outputs": [],
   "source": [
    "students_data = {1:['Shivan Bansal', 24], 2:['Udit Bansal', 25], 3:['Sonam Gupta', 26], 4:['Saif Ansari', 24], 5:['Huzefa Ca;lcuttawa', 27]}"
   ]
  },
  {
   "cell_type": "code",
   "execution_count": 15,
   "metadata": {},
   "outputs": [
    {
     "name": "stdout",
     "output_type": "stream",
     "text": [
      "1 ['Shivan Bansal', 24]\n",
      "2 ['Udit Bansal', 25]\n",
      "3 ['Sonam Gupta', 26]\n",
      "4 ['Saif Ansari', 24]\n",
      "5 ['Huzefa Ca;lcuttawa', 27]\n"
     ]
    }
   ],
   "source": [
    "for key,val in students_data.items():\n",
    "    print(key, val)"
   ]
  },
  {
   "cell_type": "code",
   "execution_count": 18,
   "metadata": {},
   "outputs": [
    {
     "name": "stdout",
     "output_type": "stream",
     "text": [
      "1\n",
      "2\n",
      "3\n",
      "4\n",
      "5\n"
     ]
    }
   ],
   "source": [
    "for key in students_data.keys():\n",
    "    print(key)"
   ]
  },
  {
   "cell_type": "code",
   "execution_count": 19,
   "metadata": {},
   "outputs": [
    {
     "name": "stdout",
     "output_type": "stream",
     "text": [
      "['Shivan Bansal', 24]\n",
      "['Udit Bansal', 25]\n",
      "['Sonam Gupta', 26]\n",
      "['Saif Ansari', 24]\n",
      "['Huzefa Ca;lcuttawa', 27]\n"
     ]
    }
   ],
   "source": [
    "for val in students_data.values():\n",
    "    print(val)"
   ]
  },
  {
   "cell_type": "code",
   "execution_count": 20,
   "metadata": {},
   "outputs": [
    {
     "name": "stdout",
     "output_type": "stream",
     "text": [
      "2\n"
     ]
    }
   ],
   "source": [
    "count = 0\n",
    "for key,val in students_data.items():\n",
    "    if val[1]<25:\n",
    "        count+=1\n",
    "\n",
    "print(count)"
   ]
  },
  {
   "cell_type": "code",
   "execution_count": 25,
   "metadata": {},
   "outputs": [
    {
     "name": "stdout",
     "output_type": "stream",
     "text": [
      "21\n",
      "22\n",
      "23\n",
      "24\n",
      "25\n",
      "26\n",
      "27\n",
      "28\n",
      "29\n",
      "30\n",
      "31\n",
      "32\n",
      "33\n",
      "34\n",
      "35\n",
      "36\n",
      "37\n",
      "38\n",
      "39\n",
      "40\n",
      "41\n",
      "42\n",
      "43\n",
      "44\n",
      "45\n",
      "46\n",
      "47\n",
      "48\n",
      "49\n",
      "50\n",
      "51\n",
      "1085\n"
     ]
    }
   ],
   "source": [
    "#while loop\n",
    "start = 20\n",
    "total = 0\n",
    "\n",
    "while start<51:\n",
    "    total+=start\n",
    "    start+=1\n",
    "    print(start)\n",
    "    \n",
    "print(total)"
   ]
  },
  {
   "cell_type": "code",
   "execution_count": null,
   "metadata": {},
   "outputs": [],
   "source": []
  }
 ],
 "metadata": {
  "colab": {
   "provenance": []
  },
  "kernelspec": {
   "display_name": "Python 3 (ipykernel)",
   "language": "python",
   "name": "python3"
  },
  "language_info": {
   "codemirror_mode": {
    "name": "ipython",
    "version": 3
   },
   "file_extension": ".py",
   "mimetype": "text/x-python",
   "name": "python",
   "nbconvert_exporter": "python",
   "pygments_lexer": "ipython3",
   "version": "3.9.13"
  }
 },
 "nbformat": 4,
 "nbformat_minor": 1
}
